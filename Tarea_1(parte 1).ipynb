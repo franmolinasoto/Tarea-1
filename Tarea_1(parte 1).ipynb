{
  "nbformat": 4,
  "nbformat_minor": 0,
  "metadata": {
    "colab": {
      "provenance": [],
      "include_colab_link": true
    },
    "kernelspec": {
      "name": "python3",
      "display_name": "Python 3"
    },
    "language_info": {
      "name": "python"
    }
  },
  "cells": [
    {
      "cell_type": "markdown",
      "metadata": {
        "id": "view-in-github",
        "colab_type": "text"
      },
      "source": [
        "<a href=\"https://colab.research.google.com/github/franmolinasoto/Tarea-1/blob/main/Tarea_1(parte%201).ipynb\" target=\"_parent\"><img src=\"https://colab.research.google.com/assets/colab-badge.svg\" alt=\"Open In Colab\"/></a>"
      ]
    },
    {
      "cell_type": "markdown",
      "source": [
        "# **CD2201-16: Ciencia de Datos en Astronomía**\n",
        "\n",
        "**Profesores:** Boris Cuevas, Paula Díaz, Danilo Sepúlveda, Francisco Urbina\n",
        "# **Tarea 1: Introducción a Numpy, Pandas y Matplotlib**\n",
        "\n",
        "El objetivo de esta tarea es repasar y aprender contenidos básicos de estas librerías que les serán útiles para el resto del curso.\n",
        "\n",
        "Recordar las instrucciones mencionadas en clases:\n",
        "1. Para hacer esta tarea tienen que hacer un fork del repositorio en sus\n",
        "cuentas de GitHub.\n",
        "2. Luego deben habilitar sus cuentas de Google Colab (cuenta Google requerida)\n",
        "3. Abrir Google Colab y seleccionar \"abrir un archivo desde GitHub\". Deben seleccionar su cuenta Github y escoger el repositorio que corresponde al fork que hicieron.\n",
        "4. Si todo sale bien, debería abrirse una copia de este notebook en su cuenta de Google Colab.\n",
        "5. Cada vez que completen un ítem, deben guardar un avance en su fork de GitHub, de modo de respaldar cada avance significativo. Usen comentarios coherentes con cada respaldo \"Sección de Numpy completada\", \"Tarea terminada\", no solamente el que pone por defecto."
      ],
      "metadata": {
        "id": "16GoZcqSj59y"
      }
    },
    {
      "cell_type": "code",
      "execution_count": 1,
      "metadata": {
        "id": "hfEl2sNqjy46"
      },
      "outputs": [],
      "source": [
        "# Antes de comenzar con la tarea debe correr esta celda para importar las librerías principales a utilizar\n",
        "import numpy as np\n",
        "import pandas as pd\n",
        "import matplotlib.pyplot as plt"
      ]
    },
    {
      "cell_type": "markdown",
      "source": [
        "## 1. Numpy (Tiempo estimado: 15 min)\n",
        "\n",
        "Una de las características principales que vuelven a Numpy tan útil son sus capacidades algebráicas, y la posibilidad de trabajar con conjuntos de datos de N dimensiones, lo que permite acelerar cálculos. Para destacar esto, a continuación se hacen una serie de ejercicios simples donde se pide que realicen las mismas operaciones usando Numpy y las listas de Python, y que luego comparen cuánto tarda cada operación.\n",
        "\n",
        "Para visualizar la velocidad de Numpy respecto a las listas de Python, deberán correr las funciones que se les pide a continuación con $\\textit{%timeit}$, de la siguiente manera:\n",
        "\n",
        "```\n",
        "%timeit nombre_funcion(parametro_1, parametro_2)\n",
        "```\n",
        "\n",
        "Esto entregará como output el tiempo medio que toma en correr la función y la desviación estándar\n"
      ],
      "metadata": {
        "id": "0NjxHVI_mP_3"
      }
    },
    {
      "cell_type": "markdown",
      "source": [
        "### Crear arreglos y listas\n",
        "A continuación debes crear un par de listas de Python y un par de arreglos de Numpy. Estos arreglos son los que se utilizarán para testear las funciones que crearás en las celdas siguientes.\n",
        "\n",
        "La primera lista debe ser una secuencia de números enteros desde 1 hasta 49. La segunda debe ir desde 101 hasta 149. Lo mismo para los arreglos."
      ],
      "metadata": {
        "id": "smHj4qfGShtj"
      }
    },
    {
      "cell_type": "code",
      "source": [
        "# Cree las listas aquí\n",
        "a_list = [ 1,  2,  3,  4,  5,  6,  7,  8,  9, 10, 11, 12, 13,\n",
        "       14, 15, 16, 17, 18, 19, 20, 21, 22, 23, 24, 25, 26,\n",
        "       27, 28, 29, 30, 31, 32, 33, 34, 35, 36, 37, 38, 39,\n",
        "       40, 41, 42, 43, 44, 45, 46, 47, 48, 49]\n",
        "\n",
        "b_list = [101, 102, 103, 104, 105, 106, 107, 108, 109, 110, 111,\n",
        "       112, 113, 114, 115, 116, 117, 118, 119, 120, 121, 122,\n",
        "       123, 124, 125, 126, 127, 128, 129, 130, 131, 132, 133,\n",
        "       134, 135, 136, 137, 138, 139, 140, 141, 142, 143, 144,\n",
        "       145, 146, 147, 148, 149]\n",
        "# Cree los arreglos aquí\n",
        "a_arr = np.linspace(1,49,49)\n",
        "b_arr = np.linspace(101,149,49)\n",
        "\n",
        "\n"
      ],
      "metadata": {
        "id": "BikeWkWA5t4b"
      },
      "execution_count": 8,
      "outputs": []
    },
    {
      "cell_type": "markdown",
      "source": [
        "### Suma de listas de elementos\n",
        "\n",
        "* Cree la función $\\textbf{suma_listas}$, que sume 2 listas de python $a$ y $b$.\n",
        "* Cree la función $\\textbf{suma_arrays}$, que sume 2 arrays de numpy $a$ y $b$.\n",
        "* Compare la eficiencia de las 2 funciones utilizando $\\textit{%timeit}$ para cada una"
      ],
      "metadata": {
        "id": "DupO44VCnjEg"
      }
    },
    {
      "cell_type": "code",
      "source": [
        "# Cree las funciones aquí\n",
        "def suma_listas(a,b):\n",
        "  Lista_suma = []\n",
        "  for i in range(len(a)):\n",
        "    Lista_suma.append(a[i]+b[i])\n",
        "\n",
        "  return Lista_suma\n",
        "\n",
        "\n",
        "\n",
        "\n",
        "\n",
        "def suma_array(a,b):\n",
        "  array_suma = np.array(a+b)\n",
        "  return array_suma\n",
        "\n",
        "\n"
      ],
      "metadata": {
        "id": "yVU8xCTBniE1"
      },
      "execution_count": 14,
      "outputs": []
    },
    {
      "cell_type": "code",
      "source": [
        "# Compare el tiempo aquí\n",
        "#para la función lista:\n",
        "%timeit suma_listas(a_list,b_list )\n",
        "\n",
        "#para la función array:\n",
        "%timeit suma_array(a_arr,b_arr )"
      ],
      "metadata": {
        "id": "4OPI4T88kqHQ",
        "outputId": "d61776a0-238e-42eb-f24a-47d7cb2d2bb8",
        "colab": {
          "base_uri": "https://localhost:8080/"
        }
      },
      "execution_count": 16,
      "outputs": [
        {
          "output_type": "stream",
          "name": "stdout",
          "text": [
            "6.75 µs ± 1.08 µs per loop (mean ± std. dev. of 7 runs, 100000 loops each)\n",
            "2.28 µs ± 67.8 ns per loop (mean ± std. dev. of 7 runs, 100000 loops each)\n"
          ]
        }
      ]
    },
    {
      "cell_type": "markdown",
      "source": [
        "### Multiplicación de listas de elementos\n",
        "\n",
        "* Cree la función $\\textbf{mupliply_listas}$, que multiplique 2 listas de python $a$ y $b$\n",
        "* Cree la función $\\textbf{mupliply_arrays}$, que multiplique 2 listas de python $a$ y $b$\n",
        "* Compare la eficiencia de las 2 funciones utilizando $\\textit{%timeit}$ para cada una"
      ],
      "metadata": {
        "id": "plK2_G1OsOT2"
      }
    },
    {
      "cell_type": "code",
      "source": [
        "# Cree las funciones aquí\n",
        "def multi_listas(a,b):\n",
        "  Lista_multi = []\n",
        "  for i in range(len(a)):\n",
        "    Lista_multi.append(a[i]*b[i])\n",
        "\n",
        "  return Lista_multi\n",
        "\n",
        "multi_listas(a_list,b_list)\n",
        "\n",
        "def multi_array(a,b):\n",
        "  array_multi = np.array(a*b)\n",
        "  return array_multi\n",
        "\n",
        "multi_array(a_arr,b_arr)"
      ],
      "metadata": {
        "id": "Od2fkhtcd_Ie",
        "outputId": "da885e35-ca1f-4398-f15b-d52d9c468f19",
        "colab": {
          "base_uri": "https://localhost:8080/"
        }
      },
      "execution_count": 20,
      "outputs": [
        {
          "output_type": "execute_result",
          "data": {
            "text/plain": [
              "array([ 101.,  204.,  309.,  416.,  525.,  636.,  749.,  864.,  981.,\n",
              "       1100., 1221., 1344., 1469., 1596., 1725., 1856., 1989., 2124.,\n",
              "       2261., 2400., 2541., 2684., 2829., 2976., 3125., 3276., 3429.,\n",
              "       3584., 3741., 3900., 4061., 4224., 4389., 4556., 4725., 4896.,\n",
              "       5069., 5244., 5421., 5600., 5781., 5964., 6149., 6336., 6525.,\n",
              "       6716., 6909., 7104., 7301.])"
            ]
          },
          "metadata": {},
          "execution_count": 20
        }
      ]
    },
    {
      "cell_type": "code",
      "source": [
        "# Compare el tiempo aquí\n",
        "\n",
        "#para la función lista:\n",
        "%timeit multi_listas(a_list,b_list )\n",
        "\n",
        "#para la función array:\n",
        "%timeit multi_array(a_arr,b_arr )\n"
      ],
      "metadata": {
        "id": "Gs_6x-HHkwlp",
        "outputId": "73ce43ca-1c2b-4a5a-92f5-836df8239a72",
        "colab": {
          "base_uri": "https://localhost:8080/"
        }
      },
      "execution_count": 21,
      "outputs": [
        {
          "output_type": "stream",
          "name": "stdout",
          "text": [
            "9.02 µs ± 2.45 µs per loop (mean ± std. dev. of 7 runs, 100000 loops each)\n",
            "1.25 µs ± 27.6 ns per loop (mean ± std. dev. of 7 runs, 1000000 loops each)\n"
          ]
        }
      ]
    },
    {
      "cell_type": "markdown",
      "source": [
        "### Aplicación práctica (IMF de Salpeter)\n",
        "\n",
        "Las Funciones de Masa Inicial (IMF) son muy útil es astronomía pues nos da cuenta de un estimado del número de estrellas que se van a formar en un periodo de formación estelar a partir de un reservorio de masa M [referencia](https://es.wikipedia.org/wiki/Función_de_masa_inicial), lo que permite estudiar poblaciones estelares. En particular, si tenemos un rango de masas $[M_1, M_2]$, se puede demostrar que el número de estrellas que nacerán de un reservorio de masa $\\xi_0$ (ignorar unidades) está dada por ecuación $(1)$\n",
        "\n",
        "$$N = \\frac{\\xi_0}{1.35} (M_1^{-1.35} - M_2^{-1.35}) \\tag{1}$$\n",
        "\n",
        "Para esta prueba usted debe:\n",
        "\n",
        "* Crear un array de masas $\\textbf{lista_masas}$ que vaya desde $0.2 M_{\\odot}$ hasta $80 M_{\\odot}$, con pasos de $0.05 M_{\\odot}$. Note que para este ejercicio puede ignorar la unidad de la masa.\n",
        "* Recrear la ecuación $(1)$ como función en python. Considere $\\xi_0=1$\n",
        "* Calcular el número de estrellas que se formarán por intervalo de $\\textbf{lista_masas}$, en $[0.2, 0.25], [0.25, 0.3], [0.3, 0.35], ..., [79.9, 79.95] y [79.95, 80]$ utilizando Numpy.\n",
        "* Luego calcule el número total de estrellas formadas, es decir, sume todos los números de estrellas calculados en el punto anterior.\n"
      ],
      "metadata": {
        "id": "eUcXxyJyuZBy"
      }
    },
    {
      "cell_type": "code",
      "source": [
        "# Cree el arreglo\n",
        "F=(80+0.2)/0.05\n",
        "#F=1604\n",
        "lista_masas = np.linspace(0.2,80,1604)\n",
        "lista_masas"
      ],
      "metadata": {
        "id": "qyKU01dsuYV6",
        "outputId": "d52304ca-5011-449a-d753-97a1ca180a24",
        "colab": {
          "base_uri": "https://localhost:8080/"
        }
      },
      "execution_count": 30,
      "outputs": [
        {
          "output_type": "execute_result",
          "data": {
            "text/plain": [
              "array([ 0.2       ,  0.24978166,  0.29956332, ..., 79.90043668,\n",
              "       79.95021834, 80.        ])"
            ]
          },
          "metadata": {},
          "execution_count": 30
        }
      ]
    },
    {
      "cell_type": "code",
      "source": [
        "# Cree la función que se le pide\n",
        "#sea epsilon = 1\n",
        "def IMF(m1, m2):\n",
        "  K1 = np.sqrt(m1^(-2.7))\n",
        "  K2 = np.sqrt(m2^(-2.7))\n",
        "\n",
        "  return (1/(1.35))*(K1-K2)\n",
        "\n",
        "IMF(1,1)\n"
      ],
      "metadata": {
        "id": "sZpzRClhk8DJ",
        "outputId": "2c55b6b2-46dd-4041-c4ca-6b18a28fdfd7",
        "colab": {
          "base_uri": "https://localhost:8080/",
          "height": 297
        }
      },
      "execution_count": 43,
      "outputs": [
        {
          "output_type": "error",
          "ename": "TypeError",
          "evalue": "unsupported operand type(s) for ^: 'int' and 'float'",
          "traceback": [
            "\u001b[0;31m---------------------------------------------------------------------------\u001b[0m",
            "\u001b[0;31mTypeError\u001b[0m                                 Traceback (most recent call last)",
            "\u001b[0;32m<ipython-input-43-1af0219865bd>\u001b[0m in \u001b[0;36m<cell line: 9>\u001b[0;34m()\u001b[0m\n\u001b[1;32m      7\u001b[0m   \u001b[0;32mreturn\u001b[0m \u001b[0;34m(\u001b[0m\u001b[0;36m1\u001b[0m\u001b[0;34m/\u001b[0m\u001b[0;34m(\u001b[0m\u001b[0;36m1.35\u001b[0m\u001b[0;34m)\u001b[0m\u001b[0;34m)\u001b[0m\u001b[0;34m*\u001b[0m\u001b[0;34m(\u001b[0m\u001b[0mK1\u001b[0m\u001b[0;34m-\u001b[0m\u001b[0mK2\u001b[0m\u001b[0;34m)\u001b[0m\u001b[0;34m\u001b[0m\u001b[0;34m\u001b[0m\u001b[0m\n\u001b[1;32m      8\u001b[0m \u001b[0;34m\u001b[0m\u001b[0m\n\u001b[0;32m----> 9\u001b[0;31m \u001b[0mIMF\u001b[0m\u001b[0;34m(\u001b[0m\u001b[0;36m1\u001b[0m\u001b[0;34m,\u001b[0m\u001b[0;36m1\u001b[0m\u001b[0;34m)\u001b[0m\u001b[0;34m\u001b[0m\u001b[0;34m\u001b[0m\u001b[0m\n\u001b[0m",
            "\u001b[0;32m<ipython-input-43-1af0219865bd>\u001b[0m in \u001b[0;36mIMF\u001b[0;34m(m1, m2)\u001b[0m\n\u001b[1;32m      2\u001b[0m \u001b[0;31m#sea epsilon = 1\u001b[0m\u001b[0;34m\u001b[0m\u001b[0;34m\u001b[0m\u001b[0m\n\u001b[1;32m      3\u001b[0m \u001b[0;32mdef\u001b[0m \u001b[0mIMF\u001b[0m\u001b[0;34m(\u001b[0m\u001b[0mm1\u001b[0m\u001b[0;34m,\u001b[0m \u001b[0mm2\u001b[0m\u001b[0;34m)\u001b[0m\u001b[0;34m:\u001b[0m\u001b[0;34m\u001b[0m\u001b[0;34m\u001b[0m\u001b[0m\n\u001b[0;32m----> 4\u001b[0;31m   \u001b[0mK1\u001b[0m \u001b[0;34m=\u001b[0m \u001b[0mnp\u001b[0m\u001b[0;34m.\u001b[0m\u001b[0msqrt\u001b[0m\u001b[0;34m(\u001b[0m\u001b[0mm1\u001b[0m\u001b[0;34m^\u001b[0m\u001b[0;34m(\u001b[0m\u001b[0;34m-\u001b[0m\u001b[0;36m2.7\u001b[0m\u001b[0;34m)\u001b[0m\u001b[0;34m)\u001b[0m\u001b[0;34m\u001b[0m\u001b[0;34m\u001b[0m\u001b[0m\n\u001b[0m\u001b[1;32m      5\u001b[0m   \u001b[0mK2\u001b[0m \u001b[0;34m=\u001b[0m \u001b[0mnp\u001b[0m\u001b[0;34m.\u001b[0m\u001b[0msqrt\u001b[0m\u001b[0;34m(\u001b[0m\u001b[0mm2\u001b[0m\u001b[0;34m^\u001b[0m\u001b[0;34m(\u001b[0m\u001b[0;34m-\u001b[0m\u001b[0;36m2.7\u001b[0m\u001b[0;34m)\u001b[0m\u001b[0;34m)\u001b[0m\u001b[0;34m\u001b[0m\u001b[0;34m\u001b[0m\u001b[0m\n\u001b[1;32m      6\u001b[0m \u001b[0;34m\u001b[0m\u001b[0m\n",
            "\u001b[0;31mTypeError\u001b[0m: unsupported operand type(s) for ^: 'int' and 'float'"
          ]
        }
      ]
    },
    {
      "cell_type": "code",
      "source": [
        "# Haga los cálculos aqui\n",
        "\n",
        "\n"
      ],
      "metadata": {
        "id": "Ov6W97KTlGLd",
        "outputId": "85b52d3b-0d38-433f-ca79-fe06e9e57bd9",
        "colab": {
          "base_uri": "https://localhost:8080/",
          "height": 106
        }
      },
      "execution_count": 37,
      "outputs": [
        {
          "output_type": "error",
          "ename": "SyntaxError",
          "evalue": "'return' outside function (<ipython-input-37-3294e24a232e>, line 4)",
          "traceback": [
            "\u001b[0;36m  File \u001b[0;32m\"<ipython-input-37-3294e24a232e>\"\u001b[0;36m, line \u001b[0;32m4\u001b[0m\n\u001b[0;31m    return lista_numero_estrellas\u001b[0m\n\u001b[0m    ^\u001b[0m\n\u001b[0;31mSyntaxError\u001b[0m\u001b[0;31m:\u001b[0m 'return' outside function\n"
          ]
        }
      ]
    },
    {
      "cell_type": "markdown",
      "source": [
        "## 2. Pandas (Tiempo estimado 20 min)\n",
        "\n",
        "Para esta sección veremos algunas de las funciones principales que existen dentro de pandas, dando una pincelada a sus capacidades. Como recomendación, puede explorar la [documentación](lista_masas), y mirar el tutorial [10 minutes to pandas](https://pandas.pydata.org/docs/user_guide/10min.html), pero no es obligatorio para esta parte."
      ],
      "metadata": {
        "id": "dl611lJmDRTX"
      }
    },
    {
      "cell_type": "markdown",
      "source": [
        "### Creación de datos\n",
        "\n",
        "Recree el siguiente DataFrame **almacen**:\n",
        "\n",
        "\n",
        "|        | Manzana | Frutilla | Melón |\n",
        "|--------|---------|----------|-------|\n",
        "| Stock inicial  | 25      | 80       | 15    |\n",
        "| Ventas | 14      | 60       | 6     |\n"
      ],
      "metadata": {
        "id": "GNUfP72AUx6h"
      }
    },
    {
      "cell_type": "code",
      "source": [],
      "metadata": {
        "id": "XCvsQiEeUxdc"
      },
      "execution_count": null,
      "outputs": []
    },
    {
      "cell_type": "markdown",
      "source": [
        "Haga ahora un inventario de la cantidad que queda por producto después de las ventas, y añada la fila **bodega** con esta información."
      ],
      "metadata": {
        "id": "IZWCQiRnYWL0"
      }
    },
    {
      "cell_type": "code",
      "source": [],
      "metadata": {
        "id": "srLlUtC_YV0U"
      },
      "execution_count": null,
      "outputs": []
    },
    {
      "cell_type": "markdown",
      "source": [
        "### Visualización de Tablas\n",
        "Para esta parte primero debe montar el drive, lo que permite leer archivos guardados en el mismo. Para esto debe correr la celda de abajo."
      ],
      "metadata": {
        "id": "JwETbfoCIYCp"
      }
    },
    {
      "cell_type": "code",
      "source": [
        "from google.colab import drive\n",
        "drive.mount('/content/drive')    # se le debe abrir una pestaña extra pidiendo permisos"
      ],
      "metadata": {
        "id": "RIoiTqBYbhj4"
      },
      "execution_count": null,
      "outputs": []
    },
    {
      "cell_type": "markdown",
      "source": [
        "Importe el dataset (archivo **censo.csv**) utilizando la función **pd.load_csv(path)** y guárdelo como **df_censo**.\n",
        "\n",
        "En la barra de herramientas ubicada en la izquierda, puede encontrar la ruta (path) al archivo \"censo.csv\" dentro de su drive. Copie la ruta y cargue dicha base de datos en la siguiente celda como se le indica."
      ],
      "metadata": {
        "id": "EjDtd6QIOLlR"
      }
    },
    {
      "cell_type": "code",
      "source": [
        "path = ''\n"
      ],
      "metadata": {
        "id": "DygboleXOWso"
      },
      "execution_count": null,
      "outputs": []
    },
    {
      "cell_type": "markdown",
      "source": [
        "Con este dataset se pide hacer lo siguiente:\n",
        "\n",
        "* Vea los primeros 10 elementos de $\\textbf{df_censo}$\n",
        "* Vea las columnas del dataframe\n",
        "* Traduzca las columnas a español (manualmente).\n",
        "* Use la función $\\textbf{describe}$ para visualizar la estadística de cada columna del dataframe. ¿Ve algo que no tiene sentido?"
      ],
      "metadata": {
        "id": "WyZK8v-8ewMO"
      }
    },
    {
      "cell_type": "code",
      "source": [
        "# Agregue más celdas si es necesario\n"
      ],
      "metadata": {
        "id": "OUo-XDcHewui"
      },
      "execution_count": null,
      "outputs": []
    },
    {
      "cell_type": "markdown",
      "source": [
        "### Filtar los datos\n",
        "\n",
        "Repare el dataframe siguiendo los siguientes pasos:\n",
        "\n",
        "* Descarte los elementos del dataframe donde la edad sea menor a cero.\n",
        "* Reemplace los casos en que el número de hermanos es menor a cero por cero.\n",
        "* Descarte los casos en que el mismo nombre aparezca más de una vez (use la función [drop_duplicates](https://pandas.pydata.org/docs/reference/api/pandas.DataFrame.drop_duplicates.html#pandas.DataFrame.drop_duplicates) y mantenga el primer elemento: keep = 'first').\n"
      ],
      "metadata": {
        "id": "uSvF60pZkmp0"
      }
    },
    {
      "cell_type": "code",
      "source": [
        "# Agregue más celdas si es necesario\n"
      ],
      "metadata": {
        "id": "iGOSwD5tZVgw"
      },
      "execution_count": null,
      "outputs": []
    },
    {
      "cell_type": "markdown",
      "source": [
        "## 3. Matplotlib\n",
        "\n",
        "Matplotlib es la librería que nos permitirá crear todo tipo de figuras para visualizar nuestros datos ([documentación](https://matplotlib.org/stable/index.html)). A pesar de su popularidad, no posee una gran versatilidad al momento de hacer una visulización interactiva. Sin embargo,su fiabilidad y simplicidad la han hecho una de las librerías fundamentales para la ciencia de datos en Python."
      ],
      "metadata": {
        "id": "4Jrb9jj-m7gj"
      }
    },
    {
      "cell_type": "markdown",
      "source": [
        "### Visualización simple"
      ],
      "metadata": {
        "id": "Z_pmuvFyoZgH"
      }
    },
    {
      "cell_type": "markdown",
      "source": [
        "Genere un arreglo de 100 números que vayan desde 0 a 4$\\pi$."
      ],
      "metadata": {
        "id": "A2FZRiq_awSm"
      }
    },
    {
      "cell_type": "code",
      "source": [
        "x_values ="
      ],
      "metadata": {
        "id": "JOF1ur5-a5X5"
      },
      "execution_count": null,
      "outputs": []
    },
    {
      "cell_type": "markdown",
      "source": [
        "Utilizando las funciones **np.sin()** y **np.cos()** de numpy, cree la siguiente función:\n",
        "$$f(x) = 1.5[\\sin(3x+\\pi/4)+\\cos(2x)] \\tag{2}$$\n",
        "\n",
        "Luego aplique la función al arreglo generado en la celda de arriba y grafique. Haga el plot sin crear una figura, es decir solo usando el comando **plt.plot(x, y)**.\n"
      ],
      "metadata": {
        "id": "Zj45na83odkj"
      }
    },
    {
      "cell_type": "code",
      "source": [
        "# Escriba la función aquí\n",
        "def f(x):\n",
        "\n",
        "\n",
        "# Haga el plot aquí\n"
      ],
      "metadata": {
        "id": "PLLDWGg-bfw5"
      },
      "execution_count": null,
      "outputs": []
    },
    {
      "cell_type": "markdown",
      "source": [
        "Ahora incluya también en el plot la misma función  pero con un poco de ruido. Para esto simplemente debes sumar la variable **ruido** definida abajo a la función.\n",
        "\n",
        "Plotee la función ruidosa de color rojo, y en azul la función sin ruido. Incluya además una leyenda con **plt.legend()**. Ojo que para que aparezca la leyenda de la figura, en **plt.plot()** debe incluir el parámetro **label**"
      ],
      "metadata": {
        "id": "Lw99N8KXp5Fw"
      }
    },
    {
      "cell_type": "code",
      "source": [
        "np.random.seed(19680801) # por ahora ignorar esto\n",
        "ruido = 0.4*np.random.randn(len(x_values))\n",
        "\n",
        "# Línea para plotear función sin ruido\n",
        "\n",
        "\n",
        "# Línea para plotear función con ruido\n"
      ],
      "metadata": {
        "id": "4YyQHyyKcMtn"
      },
      "execution_count": null,
      "outputs": []
    },
    {
      "cell_type": "markdown",
      "source": [
        "Es una buena práctica también el siempre inicializar una figura. Esto además permite definir un tamaño al plot que se va a generar. Use **plt.figure(figsize=(size_x, size_y))** para cambiar el tamaño de la figura y recree todo lo que hizo en la celda anterior.\n"
      ],
      "metadata": {
        "id": "1m6lVwVKrcRg"
      }
    },
    {
      "cell_type": "code",
      "source": [],
      "metadata": {
        "id": "xOUYHjMorb9j"
      },
      "execution_count": null,
      "outputs": []
    },
    {
      "cell_type": "markdown",
      "source": [
        "Para estas funciones, sabemos que tiene un mayor sentido definir el eje x en función de $\\pi$ en lugar de números enteros. Haga de nuevo la figura pero ahora utilize la función **plt.xticks()** para reescribir los valores de x como múltiplos de $\\pi$. Utilice como labels la lista **xticks_labels** que ya está definida.\n",
        "\n",
        "Además, tenga en cuenta que se puede escribir texto en latex de la siguiente forma:\n",
        "```\n",
        "r'$\\pi$'\n",
        "```\n",
        "\n"
      ],
      "metadata": {
        "id": "53hjjeSOsYC9"
      }
    },
    {
      "cell_type": "code",
      "source": [
        "xticks_labels = [r'$\\pi$', r'$2\\pi$', r'$3\\pi$', r'$4\\pi$']"
      ],
      "metadata": {
        "id": "u6Fuot6TsXfR"
      },
      "execution_count": null,
      "outputs": []
    },
    {
      "cell_type": "markdown",
      "source": [
        "Como ultimo paso, agregue una grilla con **plt.grid(True)**. Además añada un título a la figura y labels en ambos ejes (x e y) que tengan sentido.\n"
      ],
      "metadata": {
        "id": "Dpx8yHarumHI"
      }
    },
    {
      "cell_type": "code",
      "source": [],
      "metadata": {
        "id": "BXkot8KC0XRl"
      },
      "execution_count": null,
      "outputs": []
    },
    {
      "cell_type": "markdown",
      "source": [
        "### Visualización distribución de estrellas\n",
        "\n",
        "El archivo **galaxy2.csv** contiene datos de la posición de estrellas sintéticas de una galaxia. Al igual que en la sección anterior, cargue los datos utilizando **pd.read_csv()**."
      ],
      "metadata": {
        "id": "8s3ZUKpnwDhp"
      }
    },
    {
      "cell_type": "code",
      "source": [
        "# Carge y abra el archivo\n"
      ],
      "metadata": {
        "id": "JxRQLctFwC48"
      },
      "execution_count": null,
      "outputs": []
    },
    {
      "cell_type": "markdown",
      "source": [
        "Vea los primeros 10 elementos del dataframe. ¿Qué tipo de información puede encontrar? Dado el nombre de las columnas, ¿en qué unidades se encuentran?\n",
        "\n",
        "**Respuesta:** responda aquí a la pregunta"
      ],
      "metadata": {
        "id": "IdcZOkvXp0MM"
      }
    },
    {
      "cell_type": "code",
      "source": [],
      "metadata": {
        "id": "chYkNHv-pvgq"
      },
      "execution_count": null,
      "outputs": []
    },
    {
      "cell_type": "markdown",
      "source": [
        "Plotee las estrellas en el plano $[x, y]$ utilizando **plt.plot()**. Para hacer esto hay que plotear solo los marcadores, esto se puede hacer con: **marker=' . ', linestyle='  '**, o simplemente con **' . '**. Recuerde agregar los labels en cada eje."
      ],
      "metadata": {
        "id": "qh1iC6G0bH5g"
      }
    },
    {
      "cell_type": "code",
      "source": [],
      "metadata": {
        "id": "-gq6Ov1ruk8d"
      },
      "execution_count": null,
      "outputs": []
    },
    {
      "cell_type": "markdown",
      "source": [
        "Se puede ver que muchas de las estrellas se extienden muy lejos de la galaxia. Para simplificar la visualización setee un **plt.xlim()** y **plt.ylim()** en el rago que considere que funcione mejor (Recomendación, como los números son muy grandes, use la notación $1eN$, con $N$ el orden de magnitud, para facilitar la escritura).\n",
        "\n",
        "Adicionalmente, cuando se trabaja con marcadores, podemos usar el parámetro **markersize** para modificar su tamaño. El plot anterior muestra con bastante claridad las estrellas que están más lejanas, pero dificulta la visualización de las regiones más centrales de la galaxia. Actualice el tamaño de los marcadores a $0.5$, de manera que sea más suave la visualización de la distribución de estrellas. Plotee además las estrellas vistas en el plano $[x, y]$, $[x, z]$, $[y, z]$.\n",
        "\n",
        "Recuerde agregar los labels en cada eje.\n",
        "\n",
        "Póngase creativo con los gráficos, defina tamaños de la figura, agregue colores, defina los tamaños de los labels, etc."
      ],
      "metadata": {
        "id": "1SabvzbeeVlJ"
      }
    },
    {
      "cell_type": "code",
      "execution_count": null,
      "metadata": {
        "id": "acf6d529-0b61-46af-a046-2cc1396cd341"
      },
      "outputs": [],
      "source": [
        "# Grafique vista en plano [x, y] aquí\n"
      ]
    },
    {
      "cell_type": "code",
      "source": [
        "# Grafique vista en plano [x, z] aquí\n"
      ],
      "metadata": {
        "id": "OIj5RXJzqQ7V"
      },
      "execution_count": null,
      "outputs": []
    },
    {
      "cell_type": "code",
      "source": [
        "# Grafique vista en plano [y, z] aquí\n"
      ],
      "metadata": {
        "id": "WhI5LenOqQog"
      },
      "execution_count": null,
      "outputs": []
    },
    {
      "cell_type": "markdown",
      "source": [
        "#### Distribuciones\n",
        "\n",
        "Calcule la distancia $r$ y ángulo $\\theta$ de cada una de las estrellas y añada estos valores a las columnas del dataframe original. Donde\n",
        "\n",
        "$r = \\sqrt{x^2 + y^2 + z^2}$\n",
        "\n",
        "$θ = \\arctan(y/x)$\n"
      ],
      "metadata": {
        "id": "WSqhyS8MiWy0"
      }
    },
    {
      "cell_type": "code",
      "execution_count": null,
      "metadata": {
        "id": "ce5f2205-ffd1-4a39-85da-65506e9c4712"
      },
      "outputs": [],
      "source": []
    },
    {
      "cell_type": "markdown",
      "source": [
        "Finalmente, visualize la distribución de $r$ y $\\theta$ con un histograma. Esto se puede contruir desde cero con matplotlib, sin embargo pandas simplifica hacer análisis como estos, permitiendo rápidamente hacer diferentes análisis estadísticos. El siguiente codigo muestra como se puede plotear un histograma a partir de un dataframe de Pandas:\n",
        "\n",
        "\n",
        "```\n",
        "dataframe.plot.hist(y=column_name, bins=n_bins)\n",
        "```\n",
        "\n",
        "Utilice una escala logarítmica en el eje vertical del histograma de la coordenada radial ($r$). Use la cantidad de bins que considere que representen bien la distribución.\n",
        "\n"
      ],
      "metadata": {
        "id": "742377hMjaG_"
      }
    },
    {
      "cell_type": "code",
      "source": [],
      "metadata": {
        "id": "pG4Z0LcijZy1"
      },
      "execution_count": null,
      "outputs": []
    }
  ]
}